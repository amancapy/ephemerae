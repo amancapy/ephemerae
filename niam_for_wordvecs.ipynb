{
 "cells": [
  {
   "cell_type": "code",
   "execution_count": 2,
   "metadata": {},
   "outputs": [
    {
     "name": "stderr",
     "output_type": "stream",
     "text": [
      "2023-11-12 21:51:16.234101: E tensorflow/compiler/xla/stream_executor/cuda/cuda_dnn.cc:9342] Unable to register cuDNN factory: Attempting to register factory for plugin cuDNN when one has already been registered\n",
      "2023-11-12 21:51:16.234177: E tensorflow/compiler/xla/stream_executor/cuda/cuda_fft.cc:609] Unable to register cuFFT factory: Attempting to register factory for plugin cuFFT when one has already been registered\n",
      "2023-11-12 21:51:16.234229: E tensorflow/compiler/xla/stream_executor/cuda/cuda_blas.cc:1518] Unable to register cuBLAS factory: Attempting to register factory for plugin cuBLAS when one has already been registered\n"
     ]
    }
   ],
   "source": [
    "import numpy as np\n",
    "from numpy import dot\n",
    "from numpy.linalg import norm\n",
    "\n",
    "import random\n",
    "import pickle\n",
    "import gc\n",
    "from tqdm import tqdm\n",
    "\n",
    "import os\n",
    "os.environ[\"TF_CPP_MIN_LOG_LEVEL\"] = \"2\"\n",
    "import tensorflow as tf\n",
    "\n",
    "from keras import layers, losses, optimizers, Model"
   ]
  },
  {
   "cell_type": "code",
   "execution_count": 3,
   "metadata": {},
   "outputs": [
    {
     "data": {
      "text/plain": [
       "0"
      ]
     },
     "execution_count": 3,
     "metadata": {},
     "output_type": "execute_result"
    }
   ],
   "source": [
    "gc.collect()"
   ]
  },
  {
   "cell_type": "code",
   "execution_count": 12,
   "metadata": {},
   "outputs": [],
   "source": [
    "def get_feature_vectors():\n",
    "    with open(\"coeff_vecs.txt\", \"r\") as f:\n",
    "        f = f.read().split(\"\\n\\n\\n\")\n",
    "        noun_dict = {}\n",
    "        for noun_vec in f:\n",
    "            split = noun_vec.split(\"\\n\\n\")\n",
    "            noun = split[0].split()[2][:-1]\n",
    "            \n",
    "            vec = split[1]\n",
    "            vec = [item.strip().replace(\"(\", \"\").replace(\")\", \"\") for item in vec.split(\",\\n\")]\n",
    "            vec = [(item.split()[:-1], item.split()[-1]) for item in vec]\n",
    "\n",
    "            vec = sorted(vec, key=lambda x: x[0])\n",
    "            vec = {\" \".join(item[0]): float(item[1]) for item in vec}\n",
    "\n",
    "            noun_dict[noun] = vec\n",
    "\n",
    "    return {k: [noun_dict[k][k1] for k1 in noun_dict[k]] for k in noun_dict}"
   ]
  },
  {
   "cell_type": "code",
   "execution_count": 18,
   "metadata": {},
   "outputs": [],
   "source": [
    "feature_vectors = get_feature_vectors()\n",
    "nouns, verbs = pickle.load(open(\"vecs.pkl\", \"rb\"))\n",
    "\n",
    "XY = [(feature_vectors[noun], nouns[noun]) for noun in nouns]"
   ]
  },
  {
   "cell_type": "code",
   "execution_count": 6,
   "metadata": {},
   "outputs": [],
   "source": [
    "class BasisSum(Model):\n",
    "    def __init__(self):\n",
    "        super().__init__()\n",
    "        self.basis = tf.Variable(tf.zeros((25, 50)))\n",
    "\n",
    "    @tf.function(reduce_retracing=True)\n",
    "    def call(self, x):\n",
    "        x = tf.einsum(\"ij,bi->bj\", self.basis, x)\n",
    "\n",
    "        return x"
   ]
  },
  {
   "cell_type": "code",
   "execution_count": 7,
   "metadata": {},
   "outputs": [],
   "source": [
    "def l2(a, b):\n",
    "    return -norm(np.subtract(a, b))"
   ]
  },
  {
   "cell_type": "code",
   "execution_count": 8,
   "metadata": {},
   "outputs": [
    {
     "name": "stderr",
     "output_type": "stream",
     "text": [
      "  0%|          | 0/500 [00:00<?, ?it/s]\n"
     ]
    },
    {
     "ename": "KeyError",
     "evalue": "51",
     "output_type": "error",
     "traceback": [
      "\u001b[0;31m---------------------------------------------------------------------------\u001b[0m",
      "\u001b[0;31mKeyError\u001b[0m                                  Traceback (most recent call last)",
      "\u001b[1;32m/home/aman/pythonprojects/ephemerae/niam_for_wordvecs.ipynb Cell 7\u001b[0m line \u001b[0;36m1\n\u001b[1;32m      <a href='vscode-notebook-cell:/home/aman/pythonprojects/ephemerae/niam_for_wordvecs.ipynb#W6sZmlsZQ%3D%3D?line=7'>8</a>\u001b[0m loss \u001b[39m=\u001b[39m losses\u001b[39m.\u001b[39mMeanSquaredError()\n\u001b[1;32m      <a href='vscode-notebook-cell:/home/aman/pythonprojects/ephemerae/niam_for_wordvecs.ipynb#W6sZmlsZQ%3D%3D?line=8'>9</a>\u001b[0m opt \u001b[39m=\u001b[39m optimizers\u001b[39m.\u001b[39mAdam(\u001b[39m0.01\u001b[39m)\n\u001b[0;32m---> <a href='vscode-notebook-cell:/home/aman/pythonprojects/ephemerae/niam_for_wordvecs.ipynb#W6sZmlsZQ%3D%3D?line=10'>11</a>\u001b[0m random\u001b[39m.\u001b[39;49mshuffle(nouns)\n\u001b[1;32m     <a href='vscode-notebook-cell:/home/aman/pythonprojects/ephemerae/niam_for_wordvecs.ipynb#W6sZmlsZQ%3D%3D?line=12'>13</a>\u001b[0m x \u001b[39m=\u001b[39m np\u001b[39m.\u001b[39marray([feature_vectors[item[\u001b[39m1\u001b[39m]] \u001b[39mfor\u001b[39;00m item \u001b[39min\u001b[39;00m pickles])\n\u001b[1;32m     <a href='vscode-notebook-cell:/home/aman/pythonprojects/ephemerae/niam_for_wordvecs.ipynb#W6sZmlsZQ%3D%3D?line=13'>14</a>\u001b[0m x \u001b[39m=\u001b[39m np\u001b[39m.\u001b[39marray([item \u001b[39m/\u001b[39m np\u001b[39m.\u001b[39mlinalg\u001b[39m.\u001b[39mnorm(item) \u001b[39mfor\u001b[39;00m item \u001b[39min\u001b[39;00m x])\n",
      "File \u001b[0;32m~/miniconda3/envs/ephemerai/lib/python3.9/random.py:362\u001b[0m, in \u001b[0;36mRandom.shuffle\u001b[0;34m(self, x, random)\u001b[0m\n\u001b[1;32m    359\u001b[0m     \u001b[39mfor\u001b[39;00m i \u001b[39min\u001b[39;00m \u001b[39mreversed\u001b[39m(\u001b[39mrange\u001b[39m(\u001b[39m1\u001b[39m, \u001b[39mlen\u001b[39m(x))):\n\u001b[1;32m    360\u001b[0m         \u001b[39m# pick an element in x[:i+1] with which to exchange x[i]\u001b[39;00m\n\u001b[1;32m    361\u001b[0m         j \u001b[39m=\u001b[39m randbelow(i \u001b[39m+\u001b[39m \u001b[39m1\u001b[39m)\n\u001b[0;32m--> 362\u001b[0m         x[i], x[j] \u001b[39m=\u001b[39m x[j], x[i]\n\u001b[1;32m    363\u001b[0m \u001b[39melse\u001b[39;00m:\n\u001b[1;32m    364\u001b[0m     _warn(\u001b[39m'\u001b[39m\u001b[39mThe *random* parameter to shuffle() has been deprecated\u001b[39m\u001b[39m\\n\u001b[39;00m\u001b[39m'\u001b[39m\n\u001b[1;32m    365\u001b[0m           \u001b[39m'\u001b[39m\u001b[39msince Python 3.9 and will be removed in a subsequent \u001b[39m\u001b[39m'\u001b[39m\n\u001b[1;32m    366\u001b[0m           \u001b[39m'\u001b[39m\u001b[39mversion.\u001b[39m\u001b[39m'\u001b[39m,\n\u001b[1;32m    367\u001b[0m           \u001b[39mDeprecationWarning\u001b[39;00m, \u001b[39m2\u001b[39m)\n",
      "\u001b[0;31mKeyError\u001b[0m: 51"
     ]
    }
   ],
   "source": [
    "total = 500\n",
    "pbar = tqdm(range(total))\n",
    "correct_count = 0\n",
    "\n",
    "for i in pbar:\n",
    "    model = BasisSum()\n",
    "\n",
    "    loss = losses.MeanSquaredError()\n",
    "    opt = optimizers.Adam(0.01)\n",
    "    \n",
    "    random.shuffle(XY)\n",
    "\n",
    "    X, Y = tf.cast(X, tf.dtypes.float32), tf.cast(Y, tf.dtypes.float32)\n",
    "    \n",
    "    train_x, test_x = X[:-2], X[-2:]\n",
    "    train_y, test_y = Y[:-2], Y[-2:]\n",
    "\n",
    "    for j in range(100):\n",
    "        with tf.GradientTape() as tape:\n",
    "            pred_y = model(train_x)\n",
    "            batchloss = loss(train_y, pred_y)\n",
    "\n",
    "            grad = tape.gradient(batchloss, model.trainable_variables)\n",
    "            opt.apply_gradients(zip(grad, model.trainable_variables))\n",
    "\n",
    "\n",
    "    pred = model(test_x)\n",
    "    t1, t2 = test_y.numpy()\n",
    "    t1, t2 = t1.flat, t2.flat\n",
    "    p1, p2 = pred.numpy()\n",
    "    p1, p2 = p1.flat, p2.flat\n",
    "    \n",
    "    correct = l2(t1, p1) + l2(t2, p2) > l2(t1, p2) + l2(t2, p1)\n",
    "    correct_count += int(correct)\n",
    "\n",
    "    pbar.set_description(f\"accuracy: {correct_count / (i + 1):.3f}\")"
   ]
  }
 ],
 "metadata": {
  "kernelspec": {
   "display_name": "ephemerai",
   "language": "python",
   "name": "python3"
  },
  "language_info": {
   "codemirror_mode": {
    "name": "ipython",
    "version": 3
   },
   "file_extension": ".py",
   "mimetype": "text/x-python",
   "name": "python",
   "nbconvert_exporter": "python",
   "pygments_lexer": "ipython3",
   "version": "3.9.18"
  }
 },
 "nbformat": 4,
 "nbformat_minor": 2
}
