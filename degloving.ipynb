{
 "cells": [
  {
   "cell_type": "code",
   "execution_count": 4,
   "metadata": {},
   "outputs": [],
   "source": [
    "import pickle\n",
    "import numpy as np"
   ]
  },
  {
   "cell_type": "code",
   "execution_count": 5,
   "metadata": {},
   "outputs": [],
   "source": [
    "def get_words(keep_verb_forms=False):\n",
    "    with open(\"coeff_vecs.txt\", \"r\") as f:\n",
    "        f = f.read().split(\"\\n\\n\\n\")\n",
    "        noun_dict = {}\n",
    "        for noun_vec in f:\n",
    "            split = noun_vec.split(\"\\n\\n\")\n",
    "            noun = split[0].split()[2][:-1]\n",
    "            \n",
    "            vec = split[1]\n",
    "            vec = [item.strip().replace(\"(\", \"\").replace(\")\", \"\") for item in vec.split(\",\\n\")]\n",
    "            vec = [(item.split()[:-1], item.split()[-1]) for item in vec]\n",
    "\n",
    "            vec = sorted(vec, key=lambda x: x[0])\n",
    "            vec = {\" \".join(item[0]): float(item[1]) for item in vec}\n",
    "            noun_dict[noun] = vec\n",
    "\n",
    "            verbs = list(vec.keys())\n",
    "            if keep_verb_forms:\n",
    "                verbs = [item.split() for item in verbs]\n",
    "                verbs = [item for sublist in verbs for item in sublist]\n",
    "            else:\n",
    "                verbs = [item.split()[0] for item in verbs]\n",
    "\n",
    "    return set(noun_dict.keys()), set(verbs)"
   ]
  },
  {
   "cell_type": "code",
   "execution_count": 7,
   "metadata": {},
   "outputs": [
    {
     "name": "stdout",
     "output_type": "stream",
     "text": [
      "6.640928396620156\n",
      "8.483218567457989\n",
      "7.4020490034134765\n",
      "6.956173403140072\n",
      "5.956155750370651\n",
      "4.737375804818232\n",
      "5.180617703642161\n",
      "6.693668739808909\n",
      "6.506724077404253\n",
      "5.68991817515441\n",
      "6.286619226334809\n",
      "6.220398927494888\n",
      "6.485044985988001\n",
      "6.282971716545739\n",
      "7.04220111656764\n",
      "6.454753424593471\n",
      "6.681963212458016\n",
      "6.564444086913888\n",
      "7.177951775211399\n",
      "6.809565532769271\n",
      "6.4840232689925825\n",
      "6.673079338783155\n",
      "6.760515212224956\n",
      "6.360984327793145\n",
      "6.487569343331973\n",
      "6.457166062601687\n",
      "6.240132340067617\n",
      "6.752915484278678\n",
      "7.476636351340985\n",
      "7.032938097331179\n",
      "6.3264087772237305\n",
      "7.080298820000212\n",
      "6.876953450625658\n",
      "6.75552452861578\n",
      "6.765833912415771\n",
      "7.2001750029778515\n",
      "6.162107170194138\n",
      "6.134075747338342\n",
      "6.731066220032947\n",
      "7.183523761939067\n",
      "7.611359665344494\n",
      "6.794608437093728\n",
      "7.279939220970132\n",
      "6.774773203419965\n",
      "7.086073656430938\n",
      "7.804855777984638\n",
      "6.445541158250987\n",
      "6.697934432766177\n",
      "6.8764003130736056\n",
      "6.9739744791228215\n",
      "6.7922107336474395\n",
      "7.535625396063201\n",
      "6.5521682357248\n",
      "7.107897269421316\n",
      "7.863238556889107\n",
      "6.595187757486992\n",
      "7.009360876160767\n",
      "7.578867653877819\n",
      "7.421833940825854\n",
      "5.918158540565019\n"
     ]
    }
   ],
   "source": [
    "nouns, verbs = get_words(False)\n",
    "\n",
    "\n",
    "vecs = [{}, {}]\n",
    "with open(\"glove.6B/glove.6B.300d.txt\", \"r\") as f:\n",
    "    f = f.readlines()\n",
    "    for l in f:\n",
    "        l = l.split()\n",
    "        if l[0] in nouns:\n",
    "            vecs[0][l[0]] = [float(item) for item in l[1:]]\n",
    "        elif l[0] in verbs:\n",
    "            vecs[1][l[0]] = [float(item) for item in l[1:]]\n",
    "\n",
    "# for verb in vecs[0]: print(np.linalg.norm(vecs[0][verb]))\n",
    "\n",
    "with open(\"vecs.pkl\", \"wb\") as f:\n",
    "    pickle.dump(vecs, f)"
   ]
  }
 ],
 "metadata": {
  "kernelspec": {
   "display_name": "ephemerai",
   "language": "python",
   "name": "python3"
  },
  "language_info": {
   "codemirror_mode": {
    "name": "ipython",
    "version": 3
   },
   "file_extension": ".py",
   "mimetype": "text/x-python",
   "name": "python",
   "nbconvert_exporter": "python",
   "pygments_lexer": "ipython3",
   "version": "3.9.18"
  }
 },
 "nbformat": 4,
 "nbformat_minor": 2
}
