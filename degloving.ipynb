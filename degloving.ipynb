{
 "cells": [
  {
   "cell_type": "code",
   "execution_count": 1,
   "metadata": {},
   "outputs": [],
   "source": [
    "import pickle\n",
    "import numpy as np"
   ]
  },
  {
   "cell_type": "code",
   "execution_count": 2,
   "metadata": {},
   "outputs": [],
   "source": [
    "def get_words(keep_verb_forms=False):\n",
    "    with open(\"coeff_vecs.txt\", \"r\") as f:\n",
    "        f = f.read().split(\"\\n\\n\\n\")\n",
    "        noun_dict = {}\n",
    "        for noun_vec in f:\n",
    "            split = noun_vec.split(\"\\n\\n\")\n",
    "            noun = split[0].split()[2][:-1]\n",
    "            \n",
    "            vec = split[1]\n",
    "            vec = [item.strip().replace(\"(\", \"\").replace(\")\", \"\") for item in vec.split(\",\\n\")]\n",
    "            vec = [(item.split()[:-1], item.split()[-1]) for item in vec]\n",
    "\n",
    "            vec = sorted(vec, key=lambda x: x[0])\n",
    "            vec = {\" \".join(item[0]): float(item[1]) for item in vec}\n",
    "            noun_dict[noun] = vec\n",
    "\n",
    "            verbs = list(vec.keys())\n",
    "            if keep_verb_forms:\n",
    "                verbs = [item.split() for item in verbs]\n",
    "                verbs = [item for sublist in verbs for item in sublist]\n",
    "            else:\n",
    "                verbs = [item.split()[0] for item in verbs]\n",
    "\n",
    "    return set(noun_dict.keys()), set(verbs)"
   ]
  },
  {
   "cell_type": "code",
   "execution_count": 3,
   "metadata": {},
   "outputs": [],
   "source": [
    "nouns, verbs = get_words(False)\n",
    "\n",
    "\n",
    "vecs = [{}, {}]\n",
    "with open(\"glove.6B/glove.6B.50d.txt\", \"r\") as f:\n",
    "    f = f.readlines()\n",
    "    for l in f:\n",
    "        l = l.split()\n",
    "        if l[0] in nouns:\n",
    "            vecs[0][l[0]] = [float(item) for item in l[1:]]\n",
    "        elif l[0] in verbs:\n",
    "            vecs[1][l[0]] = [float(item) for item in l[1:]]\n",
    "\n",
    "# for verb in vecs[0]: print(np.linalg.norm(vecs[0][verb]))\n",
    "\n",
    "with open(\"vecs.pkl\", \"wb\") as f:\n",
    "    pickle.dump(vecs, f)"
   ]
  }
 ],
 "metadata": {
  "kernelspec": {
   "display_name": "ephemerai",
   "language": "python",
   "name": "python3"
  },
  "language_info": {
   "codemirror_mode": {
    "name": "ipython",
    "version": 3
   },
   "file_extension": ".py",
   "mimetype": "text/x-python",
   "name": "python",
   "nbconvert_exporter": "python",
   "pygments_lexer": "ipython3",
   "version": "3.9.18"
  }
 },
 "nbformat": 4,
 "nbformat_minor": 2
}
