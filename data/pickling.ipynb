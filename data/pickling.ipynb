{
 "cells": [
  {
   "cell_type": "code",
   "execution_count": 1,
   "metadata": {},
   "outputs": [
    {
     "name": "stderr",
     "output_type": "stream",
     "text": [
      "2023-11-19 15:41:00.909082: E tensorflow/compiler/xla/stream_executor/cuda/cuda_dnn.cc:9342] Unable to register cuDNN factory: Attempting to register factory for plugin cuDNN when one has already been registered\n",
      "2023-11-19 15:41:00.909160: E tensorflow/compiler/xla/stream_executor/cuda/cuda_fft.cc:609] Unable to register cuFFT factory: Attempting to register factory for plugin cuFFT when one has already been registered\n",
      "2023-11-19 15:41:00.909201: E tensorflow/compiler/xla/stream_executor/cuda/cuda_blas.cc:1518] Unable to register cuBLAS factory: Attempting to register factory for plugin cuBLAS when one has already been registered\n"
     ]
    }
   ],
   "source": [
    "from scipy.io import loadmat\n",
    "import numpy as np\n",
    "from scipy.stats import mode\n",
    "from sklearn.preprocessing import PowerTransformer\n",
    "import pickle\n",
    "from tqdm import tqdm\n",
    "from multiprocessing import Pool\n",
    "import os"
   ]
  },
  {
   "cell_type": "code",
   "execution_count": 2,
   "metadata": {},
   "outputs": [],
   "source": [
    "def pickle_pi_set(pi):\n",
    "    pi_set = []\n",
    "    mat_i = loadmat(f\"data/mats/data-science-P{pi+1}.mat\")\n",
    "    coord_to_col = mat_i[\"meta\"][0][0][8]\n",
    "    data = mat_i[\"data\"]\n",
    "    info = mat_i[\"info\"][0]\n",
    "\n",
    "    yeojohnTr = PowerTransformer(standardize=True)\n",
    "    \n",
    "    for i in tqdm(range(360), desc=str(pi)):\n",
    "        datum = data[i][0][0]\n",
    "\n",
    "        scan = np.zeros((23, 61, 51))\n",
    "        for x in range(51):\n",
    "            for y in range(61):\n",
    "                for z in range(23):\n",
    "                    scan[z, y, x] = datum[coord_to_col[x, y, z] - 1]\n",
    "\n",
    "\n",
    "        mask = scan != mode(scan.flat).mode\n",
    "\n",
    "        scan[mask] = yeojohnTr.fit_transform(scan[mask].reshape((-1, 1))).reshape((-1, ))\n",
    "        scan[scan == mode(scan.flat).mode] = scan.min()\n",
    "        scan[scan < -3] = -3\n",
    "        scan[scan > 3] = 3\n",
    "        scan /= 3\n",
    "\n",
    "        pi_set.append((scan, info[i][2][0], info[i][0][0]))\n",
    "\n",
    "    with open(f\"data/pickles/{pi}.pkl\", \"wb\") as f:\n",
    "        pickle.dump(pi_set, f)\n",
    "        "
   ]
  },
  {
   "cell_type": "code",
   "execution_count": 3,
   "metadata": {},
   "outputs": [
    {
     "name": "stderr",
     "output_type": "stream",
     "text": [
      "1: 100%|██████████| 360/360 [01:16<00:00,  4.72it/s]\n",
      "0: 100%|██████████| 360/360 [01:16<00:00,  4.72it/s]\n",
      "4: 100%|██████████| 360/360 [01:16<00:00,  4.68it/s]\n",
      "2: 100%|██████████| 360/360 [01:17<00:00,  4.62it/s]\n",
      "3: 100%|██████████| 360/360 [01:20<00:00,  4.47it/s]\n",
      "6: 100%|██████████| 360/360 [01:10<00:00,  5.10it/s]\n",
      "7: 100%|██████████| 360/360 [01:10<00:00,  5.13it/s]\n",
      "8: 100%|██████████| 360/360 [01:10<00:00,  5.08it/s]\n",
      "5: 100%|██████████| 360/360 [01:12<00:00,  4.95it/s]\n"
     ]
    }
   ],
   "source": [
    "def pickle_set():\n",
    "    if not os.path.exists(\"data/pickles\"):\n",
    "        os.mkdir(\"data/pickles\")\n",
    "    Pool(processes=5).map(pickle_pi_set, range(9))\n",
    "\n",
    "pickle_set()"
   ]
  }
 ],
 "metadata": {
  "kernelspec": {
   "display_name": "ephemerai",
   "language": "python",
   "name": "python3"
  },
  "language_info": {
   "codemirror_mode": {
    "name": "ipython",
    "version": 3
   },
   "file_extension": ".py",
   "mimetype": "text/x-python",
   "name": "python",
   "nbconvert_exporter": "python",
   "pygments_lexer": "ipython3",
   "version": "3.9.18"
  }
 },
 "nbformat": 4,
 "nbformat_minor": 2
}
