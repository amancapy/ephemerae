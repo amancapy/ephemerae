{
 "cells": [
  {
   "cell_type": "code",
   "execution_count": 33,
   "metadata": {},
   "outputs": [],
   "source": [
    "from scipy.io import loadmat\n",
    "import numpy as np\n",
    "import matplotlib.pyplot as plt\n",
    "from scipy.stats import mode\n",
    "import random\n",
    "from scipy.ndimage import zoom, rotate\n",
    "import os\n",
    "import pickle\n",
    "from tqdm import tqdm"
   ]
  },
  {
   "cell_type": "code",
   "execution_count": 34,
   "metadata": {},
   "outputs": [
    {
     "name": "stdout",
     "output_type": "stream",
     "text": [
      "0\n"
     ]
    },
    {
     "name": "stderr",
     "output_type": "stream",
     "text": [
      "100%|██████████| 359/359 [01:04<00:00,  5.54it/s]\n"
     ]
    },
    {
     "name": "stdout",
     "output_type": "stream",
     "text": [
      "1\n"
     ]
    },
    {
     "name": "stderr",
     "output_type": "stream",
     "text": [
      "100%|██████████| 359/359 [01:03<00:00,  5.64it/s]\n"
     ]
    },
    {
     "ename": "KeyboardInterrupt",
     "evalue": "",
     "output_type": "error",
     "traceback": [
      "\u001b[0;31m---------------------------------------------------------------------------\u001b[0m",
      "\u001b[0;31mKeyboardInterrupt\u001b[0m                         Traceback (most recent call last)",
      "\u001b[1;32m/home/aman/pythonprojects/ephemerai/main.ipynb Cell 2\u001b[0m line \u001b[0;36m6\n\u001b[1;32m     <a href='vscode-notebook-cell:/home/aman/pythonprojects/ephemerai/main.ipynb#W1sZmlsZQ%3D%3D?line=52'>53</a>\u001b[0m             pickle\u001b[39m.\u001b[39mdump(pi_set, f)\n\u001b[1;32m     <a href='vscode-notebook-cell:/home/aman/pythonprojects/ephemerai/main.ipynb#W1sZmlsZQ%3D%3D?line=55'>56</a>\u001b[0m             \u001b[39m# w = 6\u001b[39;00m\n\u001b[1;32m     <a href='vscode-notebook-cell:/home/aman/pythonprojects/ephemerai/main.ipynb#W1sZmlsZQ%3D%3D?line=56'>57</a>\u001b[0m             \u001b[39m# fig, ax = plt.subplots(w, w, constrained_layout=True)\u001b[39;00m\n\u001b[1;32m     <a href='vscode-notebook-cell:/home/aman/pythonprojects/ephemerai/main.ipynb#W1sZmlsZQ%3D%3D?line=57'>58</a>\u001b[0m             \u001b[39m# fig.dpi = 100\u001b[39;00m\n\u001b[0;32m   (...)\u001b[0m\n\u001b[1;32m     <a href='vscode-notebook-cell:/home/aman/pythonprojects/ephemerai/main.ipynb#W1sZmlsZQ%3D%3D?line=65'>66</a>\u001b[0m             \u001b[39m#     plt.setp(ax[(j - j % w) // w, j % w].spines.values(), color=bg_color)\u001b[39;00m\n\u001b[1;32m     <a href='vscode-notebook-cell:/home/aman/pythonprojects/ephemerai/main.ipynb#W1sZmlsZQ%3D%3D?line=66'>67</a>\u001b[0m             \u001b[39m# plt.show()\u001b[39;00m\n\u001b[0;32m---> <a href='vscode-notebook-cell:/home/aman/pythonprojects/ephemerai/main.ipynb#W1sZmlsZQ%3D%3D?line=68'>69</a>\u001b[0m pickle_dataset()\n",
      "\u001b[1;32m/home/aman/pythonprojects/ephemerai/main.ipynb Cell 2\u001b[0m line \u001b[0;36m5\n\u001b[1;32m     <a href='vscode-notebook-cell:/home/aman/pythonprojects/ephemerai/main.ipynb#W1sZmlsZQ%3D%3D?line=47'>48</a>\u001b[0m     scan \u001b[39m=\u001b[39m rotate(scan, angles[\u001b[39m2\u001b[39m], (\u001b[39m2\u001b[39m, \u001b[39m0\u001b[39m), reshape\u001b[39m=\u001b[39m\u001b[39mFalse\u001b[39;00m)\n\u001b[1;32m     <a href='vscode-notebook-cell:/home/aman/pythonprojects/ephemerai/main.ipynb#W1sZmlsZQ%3D%3D?line=49'>50</a>\u001b[0m     pi_set\u001b[39m.\u001b[39mappend((scan, info[i][\u001b[39m2\u001b[39m][\u001b[39m0\u001b[39m]))\n\u001b[0;32m---> <a href='vscode-notebook-cell:/home/aman/pythonprojects/ephemerai/main.ipynb#W1sZmlsZQ%3D%3D?line=51'>52</a>\u001b[0m \u001b[39mwith\u001b[39;49;00m \u001b[39mopen\u001b[39;49m(\u001b[39mf\u001b[39;49m\u001b[39m\"\u001b[39;49m\u001b[39mpickles/\u001b[39;49m\u001b[39m{\u001b[39;49;00mi\u001b[39m}\u001b[39;49;00m\u001b[39m.pkl\u001b[39;49m\u001b[39m\"\u001b[39;49m, \u001b[39m\"\u001b[39;49m\u001b[39mwb\u001b[39;49m\u001b[39m\"\u001b[39;49m) \u001b[39mas\u001b[39;49;00m f:\n\u001b[1;32m     <a href='vscode-notebook-cell:/home/aman/pythonprojects/ephemerai/main.ipynb#W1sZmlsZQ%3D%3D?line=52'>53</a>\u001b[0m     pickle\u001b[39m.\u001b[39;49mdump(pi_set, f)\n",
      "\u001b[0;31mKeyboardInterrupt\u001b[0m: "
     ]
    }
   ],
   "source": [
    "def pickle_dataset(zoom_factor=1):\n",
    "    if not os.path.exists(\"pickles\"):\n",
    "        os.mkdir(\"pickles\")\n",
    "\n",
    "    for pi in range(9):\n",
    "        print(pi)\n",
    "\n",
    "        pi_set = []\n",
    "        mat_i = loadmat(f\"mats/data-science-P{pi+1}.mat\")\n",
    "        coord_to_col = mat_i[\"meta\"][0][0][8]\n",
    "        data = mat_i[\"data\"]\n",
    "        info = mat_i[\"info\"][0]\n",
    "\n",
    "        for i in tqdm(range(359)):\n",
    "            datum = data[i][0][0]\n",
    "\n",
    "            scan = np.zeros((23, 61, 51))\n",
    "            for x in range(51):\n",
    "                for y in range(61):\n",
    "                    for z in range(23):\n",
    "                        scan[z, y, x] = datum[coord_to_col[x, y, z] - 1]\n",
    "\n",
    "            mask = scan != mode(scan.flat).mode\n",
    "\n",
    "            masked_scan = scan[mask]\n",
    "            mask_mean, mask_std = np.mean(masked_scan), np.std(masked_scan)\n",
    "            lt_mask, gt_mask = masked_scan < mask_mean, masked_scan > mask_mean\n",
    "            std_left = np.sqrt(np.sum(np.square(masked_scan[lt_mask] - mask_mean)) / np.size(masked_scan[lt_mask]))\n",
    "            std_right = np.sqrt(np.sum(np.square(masked_scan[gt_mask] - mask_mean)) / np.size(masked_scan[gt_mask]))\n",
    "\n",
    "            scan[mask] -= mask_mean\n",
    "            scan[mask][scan[mask] < mask_mean] /= std_left\n",
    "            scan[mask][scan[mask] > mask_mean] /= std_right\n",
    "\n",
    "            n = 3.5\n",
    "            scan[scan > n * mask_std] = n * mask_std\n",
    "            scan[scan < -n * mask_std] = -n * mask_std\n",
    "\n",
    "            scan[scan == mode(scan.flat).mode] = scan[mask].min()\n",
    "            scan = (scan - scan.min()) / (scan.max() - scan.min())\n",
    "            scan = np.pad(scan, 5)\n",
    "\n",
    "            if zoom_factor > 1:\n",
    "                scan = zoom(scan, zoom_factor, order=1)\n",
    "            angles = np.random.randint(low=-5, high=5, size=(3, ))\n",
    "            scan = rotate(scan, angles[0], (0, 1), reshape=False)\n",
    "            scan = rotate(scan, angles[1], (1, 2), reshape=False)\n",
    "            scan = rotate(scan, angles[2], (2, 0), reshape=False)\n",
    "\n",
    "            pi_set.append((scan, info[i][2][0]))\n",
    "\n",
    "        with open(f\"pickles/{i}_zoom-{zoom_factor}.pkl\", \"wb\") as f:\n",
    "            pickle.dump(pi_set, f)\n",
    "        \n",
    "        \n",
    "            # w = 6\n",
    "            # fig, ax = plt.subplots(w, w, constrained_layout=True)\n",
    "            # fig.dpi = 100\n",
    "            # bg_color = (225 / 255, 216 / 255, 226 / 255)\n",
    "            # fig.set_facecolor(bg_color)\n",
    "            \n",
    "            # for j in range(w * w):\n",
    "            #     ax[(j - j % w) // w, j % w].imshow(scan[j % 33], vmin=0, vmax=1, cmap=\"twilight\")\n",
    "            #     ax[(j - j % w) // w, j % w].set_xticks([])\n",
    "            #     ax[(j - j % w) // w, j % w].set_yticks([])\n",
    "            #     plt.setp(ax[(j - j % w) // w, j % w].spines.values(), color=bg_color)\n",
    "            # plt.show()\n",
    "\n",
    "pickle_dataset()"
   ]
  }
 ],
 "metadata": {
  "kernelspec": {
   "display_name": "ephemerai",
   "language": "python",
   "name": "python3"
  },
  "language_info": {
   "codemirror_mode": {
    "name": "ipython",
    "version": 3
   },
   "file_extension": ".py",
   "mimetype": "text/x-python",
   "name": "python",
   "nbconvert_exporter": "python",
   "pygments_lexer": "ipython3",
   "version": "3.11.0"
  }
 },
 "nbformat": 4,
 "nbformat_minor": 2
}
