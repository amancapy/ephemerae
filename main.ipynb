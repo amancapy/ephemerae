{
 "cells": [
  {
   "cell_type": "code",
   "execution_count": 36,
   "metadata": {},
   "outputs": [],
   "source": [
    "from scipy.io import loadmat\n",
    "import numpy as np\n",
    "import matplotlib.pyplot as plt\n",
    "from scipy.stats import mode\n",
    "import random\n",
    "from scipy.ndimage import zoom, rotate\n",
    "import pickle\n",
    "from tqdm import tqdm\n",
    "\n",
    "import os\n",
    "os.environ[\"TF_CPP_MIN_LOG_LEVEL\"] = \"2\"\n",
    "import tensorflow as tf\n",
    "from keras import models, layers, losses, optimizers, Model"
   ]
  },
  {
   "cell_type": "code",
   "execution_count": 38,
   "metadata": {},
   "outputs": [
    {
     "name": "stderr",
     "output_type": "stream",
     "text": [
      "0:   1%|          | 2/359 [00:00<00:48,  7.36it/s]"
     ]
    },
    {
     "name": "stdout",
     "output_type": "stream",
     "text": [
      "(64, 64, 64)\n",
      "(64, 64, 64)\n"
     ]
    },
    {
     "name": "stderr",
     "output_type": "stream",
     "text": [
      "0:   1%|          | 4/359 [00:00<00:58,  6.10it/s]"
     ]
    },
    {
     "name": "stdout",
     "output_type": "stream",
     "text": [
      "(64, 64, 64)\n",
      "(64, 64, 64)\n"
     ]
    },
    {
     "name": "stderr",
     "output_type": "stream",
     "text": [
      "0:   2%|▏         | 6/359 [00:00<00:57,  6.15it/s]"
     ]
    },
    {
     "name": "stdout",
     "output_type": "stream",
     "text": [
      "(64, 64, 64)\n",
      "(64, 64, 64)\n"
     ]
    },
    {
     "name": "stderr",
     "output_type": "stream",
     "text": [
      "0:   2%|▏         | 8/359 [00:01<00:59,  5.93it/s]"
     ]
    },
    {
     "name": "stdout",
     "output_type": "stream",
     "text": [
      "(64, 64, 64)\n",
      "(64, 64, 64)\n"
     ]
    },
    {
     "name": "stderr",
     "output_type": "stream",
     "text": [
      "0:   3%|▎         | 10/359 [00:01<00:58,  5.99it/s]"
     ]
    },
    {
     "name": "stdout",
     "output_type": "stream",
     "text": [
      "(64, 64, 64)\n",
      "(64, 64, 64)\n"
     ]
    },
    {
     "name": "stderr",
     "output_type": "stream",
     "text": [
      "0:   3%|▎         | 12/359 [00:01<00:58,  5.96it/s]"
     ]
    },
    {
     "name": "stdout",
     "output_type": "stream",
     "text": [
      "(64, 64, 64)\n",
      "(64, 64, 64)\n"
     ]
    },
    {
     "name": "stderr",
     "output_type": "stream",
     "text": [
      "0:   4%|▍         | 14/359 [00:02<00:53,  6.51it/s]"
     ]
    },
    {
     "name": "stdout",
     "output_type": "stream",
     "text": [
      "(64, 64, 64)\n",
      "(64, 64, 64)\n"
     ]
    },
    {
     "name": "stderr",
     "output_type": "stream",
     "text": [
      "0:   4%|▍         | 15/359 [00:02<00:59,  5.77it/s]"
     ]
    },
    {
     "name": "stdout",
     "output_type": "stream",
     "text": [
      "(64, 64, 64)\n"
     ]
    },
    {
     "name": "stderr",
     "output_type": "stream",
     "text": [
      "\n"
     ]
    },
    {
     "ename": "KeyboardInterrupt",
     "evalue": "",
     "output_type": "error",
     "traceback": [
      "\u001b[0;31m---------------------------------------------------------------------------\u001b[0m",
      "\u001b[0;31mKeyboardInterrupt\u001b[0m                         Traceback (most recent call last)",
      "\u001b[1;32m/home/aman/pythonprojects/ephemerai/main.ipynb Cell 2\u001b[0m line \u001b[0;36m6\n\u001b[1;32m     <a href='vscode-notebook-cell:/home/aman/pythonprojects/ephemerai/main.ipynb#W1sZmlsZQ%3D%3D?line=47'>48</a>\u001b[0m             pickle\u001b[39m.\u001b[39mdump(pi_set, f)\n\u001b[1;32m     <a href='vscode-notebook-cell:/home/aman/pythonprojects/ephemerai/main.ipynb#W1sZmlsZQ%3D%3D?line=50'>51</a>\u001b[0m             \u001b[39m# w = 6\u001b[39;00m\n\u001b[1;32m     <a href='vscode-notebook-cell:/home/aman/pythonprojects/ephemerai/main.ipynb#W1sZmlsZQ%3D%3D?line=51'>52</a>\u001b[0m             \u001b[39m# fig, ax = plt.subplots(w, w, constrained_layout=True)\u001b[39;00m\n\u001b[1;32m     <a href='vscode-notebook-cell:/home/aman/pythonprojects/ephemerai/main.ipynb#W1sZmlsZQ%3D%3D?line=52'>53</a>\u001b[0m             \u001b[39m# fig.dpi = 100\u001b[39;00m\n\u001b[0;32m   (...)\u001b[0m\n\u001b[1;32m     <a href='vscode-notebook-cell:/home/aman/pythonprojects/ephemerai/main.ipynb#W1sZmlsZQ%3D%3D?line=60'>61</a>\u001b[0m             \u001b[39m#     plt.setp(ax[(j - j % w) // w, j % w].spines.values(), color=bg_color)\u001b[39;00m\n\u001b[1;32m     <a href='vscode-notebook-cell:/home/aman/pythonprojects/ephemerai/main.ipynb#W1sZmlsZQ%3D%3D?line=61'>62</a>\u001b[0m             \u001b[39m# plt.show()\u001b[39;00m\n\u001b[0;32m---> <a href='vscode-notebook-cell:/home/aman/pythonprojects/ephemerai/main.ipynb#W1sZmlsZQ%3D%3D?line=63'>64</a>\u001b[0m pickle_dataset()\n",
      "\u001b[1;32m/home/aman/pythonprojects/ephemerai/main.ipynb Cell 2\u001b[0m line \u001b[0;36m1\n\u001b[1;32m     <a href='vscode-notebook-cell:/home/aman/pythonprojects/ephemerai/main.ipynb#W1sZmlsZQ%3D%3D?line=16'>17</a>\u001b[0m     \u001b[39mfor\u001b[39;00m y \u001b[39min\u001b[39;00m \u001b[39mrange\u001b[39m(\u001b[39m61\u001b[39m):\n\u001b[1;32m     <a href='vscode-notebook-cell:/home/aman/pythonprojects/ephemerai/main.ipynb#W1sZmlsZQ%3D%3D?line=17'>18</a>\u001b[0m         \u001b[39mfor\u001b[39;00m z \u001b[39min\u001b[39;00m \u001b[39mrange\u001b[39m(\u001b[39m23\u001b[39m):\n\u001b[0;32m---> <a href='vscode-notebook-cell:/home/aman/pythonprojects/ephemerai/main.ipynb#W1sZmlsZQ%3D%3D?line=18'>19</a>\u001b[0m             scan[z, y, x] \u001b[39m=\u001b[39m datum[coord_to_col[x, y, z] \u001b[39m-\u001b[39m \u001b[39m1\u001b[39m]\n\u001b[1;32m     <a href='vscode-notebook-cell:/home/aman/pythonprojects/ephemerai/main.ipynb#W1sZmlsZQ%3D%3D?line=20'>21</a>\u001b[0m mask \u001b[39m=\u001b[39m scan \u001b[39m!=\u001b[39m mode(scan\u001b[39m.\u001b[39mflat)\u001b[39m.\u001b[39mmode\n\u001b[1;32m     <a href='vscode-notebook-cell:/home/aman/pythonprojects/ephemerai/main.ipynb#W1sZmlsZQ%3D%3D?line=22'>23</a>\u001b[0m masked_scan \u001b[39m=\u001b[39m scan[mask]\n",
      "\u001b[0;31mKeyboardInterrupt\u001b[0m: "
     ]
    }
   ],
   "source": [
    "def pickle_dataset(zoom_factor=1):\n",
    "    if not os.path.exists(\"pickles\"):\n",
    "        os.mkdir(\"pickles\")\n",
    "\n",
    "    for pi in range(9):\n",
    "        pi_set = []\n",
    "        mat_i = loadmat(f\"mats/data-science-P{pi+1}.mat\")\n",
    "        coord_to_col = mat_i[\"meta\"][0][0][8]\n",
    "        data = mat_i[\"data\"]\n",
    "        info = mat_i[\"info\"][0]\n",
    "\n",
    "        for i in tqdm(range(359), desc=str(pi)):\n",
    "            datum = data[i][0][0]\n",
    "\n",
    "            scan = np.zeros((23, 61, 51))\n",
    "            for x in range(51):\n",
    "                for y in range(61):\n",
    "                    for z in range(23):\n",
    "                        scan[z, y, x] = datum[coord_to_col[x, y, z] - 1]\n",
    "\n",
    "            mask = scan != mode(scan.flat).mode\n",
    "\n",
    "            masked_scan = scan[mask]\n",
    "            mask_mean, mask_std = np.mean(masked_scan), np.std(masked_scan)\n",
    "            lt_mask, gt_mask = masked_scan < mask_mean, masked_scan > mask_mean\n",
    "            std_left = np.sqrt(np.sum(np.square(masked_scan[lt_mask] - mask_mean)) / np.size(masked_scan[lt_mask]))\n",
    "            std_right = np.sqrt(np.sum(np.square(masked_scan[gt_mask] - mask_mean)) / np.size(masked_scan[gt_mask]))\n",
    "\n",
    "            scan[mask] -= mask_mean\n",
    "            scan[mask][scan[mask] < mask_mean] /= std_left\n",
    "            scan[mask][scan[mask] > mask_mean] /= std_right\n",
    "\n",
    "            n = 3.5\n",
    "            scan[scan > n * mask_std] = n * mask_std\n",
    "            scan[scan < -n * mask_std] = -n * mask_std\n",
    "\n",
    "            scan[scan == mode(scan.flat).mode] = scan[mask].min()\n",
    "            scan = (scan - scan.min()) / (scan.max() - scan.min())\n",
    "            scan = np.pad(scan, ((21, 20), (2, 1), (7, 6)))\n",
    "\n",
    "            if zoom_factor > 1:\n",
    "                scan = zoom(scan, zoom_factor, order=1)\n",
    "            \n",
    "            pi_set.append((scan, info[i][2][0]))\n",
    "\n",
    "        with open(f\"pickles/{pi}.pkl\", \"wb\") as f:\n",
    "            pickle.dump(pi_set, f)\n",
    "        \n",
    "        \n",
    "            # w = 6\n",
    "            # fig, ax = plt.subplots(w, w, constrained_layout=True)\n",
    "            # fig.dpi = 100\n",
    "            # bg_color = (225 / 255, 216 / 255, 226 / 255)\n",
    "            # fig.set_facecolor(bg_color)\n",
    "            \n",
    "            # for j in range(w * w):\n",
    "            #     ax[(j - j % w) // w, j % w].imshow(scan[j % 33], vmin=0, vmax=1, cmap=\"twilight\")\n",
    "            #     ax[(j - j % w) // w, j % w].set_xticks([])\n",
    "            #     ax[(j - j % w) // w, j % w].set_yticks([])\n",
    "            #     plt.setp(ax[(j - j % w) // w, j % w].spines.values(), color=bg_color)\n",
    "            # plt.show()\n",
    "\n",
    "pickle_dataset()"
   ]
  },
  {
   "cell_type": "code",
   "execution_count": null,
   "metadata": {},
   "outputs": [],
   "source": [
    "pickles = [pickle.load(open(f\"pickles/{i}.pkl\", \"rb\")) for i in range(9)]"
   ]
  },
  {
   "cell_type": "code",
   "execution_count": null,
   "metadata": {},
   "outputs": [],
   "source": [
    "targets = set([pickles[0][i][1] for i in range(len(pickles[0]))])\n",
    "targets = {k: v for k, v in zip(targets, [[1 if i == j else 0 for i in range(60)] for j in range(len(targets))])}"
   ]
  },
  {
   "cell_type": "code",
   "execution_count": null,
   "metadata": {},
   "outputs": [],
   "source": [
    "def get_batch(batch_size=32):\n",
    "    batch_x, batch_y = [], []\n",
    "    for i in range(batch_size):\n",
    "        p = random.choice(pickles)\n",
    "        scan, target = random.choice(p)\n",
    "\n",
    "        angles = np.random.randint(low=-5, high=5, size=(3, ))\n",
    "        scan = rotate(scan, angles[0], (0, 1), reshape=False)\n",
    "        scan = rotate(scan, angles[1], (1, 2), reshape=False)\n",
    "        scan = rotate(scan, angles[2], (2, 0), reshape=False)\n",
    "        \n",
    "        scan = np.expand_dims(scan, -1)\n",
    "        \n",
    "        batch_x.append(scan)\n",
    "        batch_y.append(targets[target])\n",
    "    return batch_x, batch_y"
   ]
  },
  {
   "cell_type": "code",
   "execution_count": null,
   "metadata": {},
   "outputs": [
    {
     "name": "stdout",
     "output_type": "stream",
     "text": [
      "Model: \"model\"\n",
      "_________________________________________________________________\n",
      " Layer (type)                Output Shape              Param #   \n",
      "=================================================================\n",
      " input_14 (InputLayer)       [(None, 33, 71, 61, 1)]   0         \n",
      "                                                                 \n",
      " conv3d_33 (Conv3D)          (None, 26, 64, 54, 4)     2052      \n",
      "                                                                 \n",
      " conv3d_34 (Conv3D)          (None, 19, 57, 47, 4)     8196      \n",
      "                                                                 \n",
      " conv3d_35 (Conv3D)          (None, 12, 50, 40, 4)     8196      \n",
      "                                                                 \n",
      " conv3d_36 (Conv3D)          (None, 5, 43, 33, 4)      8196      \n",
      "                                                                 \n",
      " flatten_3 (Flatten)         (None, 28380)             0         \n",
      "                                                                 \n",
      " dense_3 (Dense)             (None, 1024)              29062144  \n",
      "                                                                 \n",
      " dense_4 (Dense)             (None, 60)                61500     \n",
      "                                                                 \n",
      "=================================================================\n",
      "Total params: 29150284 (111.20 MB)\n",
      "Trainable params: 29150284 (111.20 MB)\n",
      "Non-trainable params: 0 (0.00 Byte)\n",
      "_________________________________________________________________\n"
     ]
    }
   ],
   "source": [
    "def get_model():\n",
    "    inputs = layers.Input((*pickles[0][0][0].shape, 1))\n",
    "    x = layers.Conv3D(4, 8, activation=\"relu\")(inputs)\n",
    "    x = layers.Conv3D(4, 8, activation=\"relu\")(x)\n",
    "    x = layers.Conv3D(4, 8, activation=\"relu\")(x)\n",
    "    x = layers.Conv3D(4, 8, activation=\"relu\")(x)\n",
    "    x = layers.Conv3D(4, 8, activation=\"relu\")(x)\n",
    "    x = layers.Conv3D(4, 8, activation=\"relu\")(x)\n",
    "\n",
    "    x = layers.Flatten()(x)\n",
    "    x = layers.Dense(1024)(x)\n",
    "    x = layers.Dense(60)(x)\n",
    "    \n",
    "    model = Model(inputs=inputs, outputs=x)\n",
    "    model.summary()\n",
    "\n",
    "get_model()"
   ]
  }
 ],
 "metadata": {
  "kernelspec": {
   "display_name": "ephemerai",
   "language": "python",
   "name": "python3"
  },
  "language_info": {
   "codemirror_mode": {
    "name": "ipython",
    "version": 3
   },
   "file_extension": ".py",
   "mimetype": "text/x-python",
   "name": "python",
   "nbconvert_exporter": "python",
   "pygments_lexer": "ipython3",
   "version": "3.11.0"
  }
 },
 "nbformat": 4,
 "nbformat_minor": 2
}
