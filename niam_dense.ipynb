{
 "cells": [
  {
   "cell_type": "code",
   "execution_count": 1,
   "metadata": {},
   "outputs": [
    {
     "name": "stderr",
     "output_type": "stream",
     "text": [
      "2023-11-17 13:20:16.671532: E tensorflow/compiler/xla/stream_executor/cuda/cuda_dnn.cc:9342] Unable to register cuDNN factory: Attempting to register factory for plugin cuDNN when one has already been registered\n",
      "2023-11-17 13:20:16.671565: E tensorflow/compiler/xla/stream_executor/cuda/cuda_fft.cc:609] Unable to register cuFFT factory: Attempting to register factory for plugin cuFFT when one has already been registered\n",
      "2023-11-17 13:20:16.671599: E tensorflow/compiler/xla/stream_executor/cuda/cuda_blas.cc:1518] Unable to register cuBLAS factory: Attempting to register factory for plugin cuBLAS when one has already been registered\n"
     ]
    }
   ],
   "source": [
    "import numpy as np\n",
    "from numpy import dot\n",
    "from numpy.linalg import norm\n",
    "\n",
    "import random\n",
    "import pickle\n",
    "import gc\n",
    "from tqdm import tqdm\n",
    "\n",
    "import os\n",
    "os.environ[\"TF_CPP_MIN_LOG_LEVEL\"] = \"2\"\n",
    "import tensorflow as tf\n",
    "\n",
    "from keras import layers, losses, optimizers, Model"
   ]
  },
  {
   "cell_type": "code",
   "execution_count": 2,
   "metadata": {},
   "outputs": [
    {
     "data": {
      "text/plain": [
       "0"
      ]
     },
     "execution_count": 2,
     "metadata": {},
     "output_type": "execute_result"
    }
   ],
   "source": [
    "gc.collect()"
   ]
  },
  {
   "cell_type": "code",
   "execution_count": 3,
   "metadata": {},
   "outputs": [],
   "source": [
    "def get_feature_vectors():\n",
    "    with open(\"coeff_vecs.txt\", \"r\") as f:\n",
    "        f = f.read().split(\"\\n\\n\\n\")\n",
    "        noun_dict = {}\n",
    "        for noun_vec in f:\n",
    "            split = noun_vec.split(\"\\n\\n\")\n",
    "            noun = split[0].split()[2][:-1]\n",
    "            \n",
    "            vec = split[1]\n",
    "            vec = [item.strip().replace(\"(\", \"\").replace(\")\", \"\") for item in vec.split(\",\\n\")]\n",
    "            vec = [(item.split()[:-1], item.split()[-1]) for item in vec]\n",
    "\n",
    "            vec = sorted(vec, key=lambda x: x[0])\n",
    "            vec = {\" \".join(item[0]): float(item[1]) for item in vec}\n",
    "\n",
    "            noun_dict[noun] = vec\n",
    "\n",
    "    return {k: [noun_dict[k][k1] for k1 in noun_dict[k]] for k in noun_dict}"
   ]
  },
  {
   "cell_type": "code",
   "execution_count": 4,
   "metadata": {},
   "outputs": [
    {
     "name": "stdout",
     "output_type": "stream",
     "text": [
      "60\n"
     ]
    }
   ],
   "source": [
    "pickles = [pickle.load(open(f\"pickles/{i}.pkl\", \"rb\")) for i in range(1)]\n",
    "pickles = [item for sublist in pickles for item in sublist]\n",
    "\n",
    "feature_vectors = get_feature_vectors()\n",
    "\n",
    "nouns = list(set([item[1] for item in pickles]))\n",
    "\n",
    "pickles = [[item for item in pickles if item[1] == noun] for noun in nouns]\n",
    "pickles = [(np.add.reduce([item[0] for item in sublist]) / len(sublist), sublist[0][1]) for sublist in pickles]\n",
    "\n",
    "print(len(pickles))"
   ]
  },
  {
   "cell_type": "code",
   "execution_count": 5,
   "metadata": {},
   "outputs": [],
   "source": [
    "class BasisSum(Model):\n",
    "    def __init__(self):\n",
    "        super().__init__()\n",
    "        self.basis = tf.Variable(tf.zeros((25, 23, 61, 51)))\n",
    "\n",
    "    @tf.function(reduce_retracing=True)\n",
    "    def call(self, x):\n",
    "        x = tf.einsum(\"ijkl,bi->bjkl\", self.basis, x)\n",
    "\n",
    "        return x"
   ]
  },
  {
   "cell_type": "code",
   "execution_count": 6,
   "metadata": {},
   "outputs": [],
   "source": [
    "def cos_sim(a, b):\n",
    "    return dot(a, b) / (norm(a) * norm(b))"
   ]
  },
  {
   "cell_type": "code",
   "execution_count": 11,
   "metadata": {},
   "outputs": [
    {
     "name": "stderr",
     "output_type": "stream",
     "text": [
      "  0%|          | 0/500 [00:00<?, ?it/s]"
     ]
    },
    {
     "name": "stdout",
     "output_type": "stream",
     "text": [
      "(58, 25, 1) (58, 23, 61, 51, 1) (58, 1)\n"
     ]
    },
    {
     "name": "stderr",
     "output_type": "stream",
     "text": [
      "\n"
     ]
    },
    {
     "ename": "InvalidArgumentError",
     "evalue": "{{function_node __wrapped__Mul_device_/job:localhost/replica:0/task:0/device:GPU:0}} required broadcastable shapes [Op:Mul] name: ",
     "output_type": "error",
     "traceback": [
      "\u001b[0;31m---------------------------------------------------------------------------\u001b[0m",
      "\u001b[0;31mInvalidArgumentError\u001b[0m                      Traceback (most recent call last)",
      "\u001b[1;32m/home/aman/pythonprojects/ephemerae/niam_dense.ipynb Cell 7\u001b[0m line \u001b[0;36m3\n\u001b[1;32m     <a href='vscode-notebook-cell:/home/aman/pythonprojects/ephemerae/niam_dense.ipynb#W6sZmlsZQ%3D%3D?line=34'>35</a>\u001b[0m ratios \u001b[39m=\u001b[39m tf\u001b[39m.\u001b[39mrandom\u001b[39m.\u001b[39muniform((\u001b[39mlen\u001b[39m(batch_x1), \u001b[39m1\u001b[39m), \u001b[39m0\u001b[39m, \u001b[39m1\u001b[39m)\n\u001b[1;32m     <a href='vscode-notebook-cell:/home/aman/pythonprojects/ephemerae/niam_dense.ipynb#W6sZmlsZQ%3D%3D?line=35'>36</a>\u001b[0m \u001b[39mprint\u001b[39m(batch_x1\u001b[39m.\u001b[39mshape, batch_y1\u001b[39m.\u001b[39mshape, ratios\u001b[39m.\u001b[39mshape)\n\u001b[0;32m---> <a href='vscode-notebook-cell:/home/aman/pythonprojects/ephemerae/niam_dense.ipynb#W6sZmlsZQ%3D%3D?line=36'>37</a>\u001b[0m batch_x \u001b[39m=\u001b[39m tf\u001b[39m.\u001b[39;49mmultiply(batch_x1, ratios) \u001b[39m+\u001b[39m tf\u001b[39m.\u001b[39mmultiply(batch_x2, (\u001b[39m1\u001b[39m \u001b[39m-\u001b[39m ratios))\n\u001b[1;32m     <a href='vscode-notebook-cell:/home/aman/pythonprojects/ephemerae/niam_dense.ipynb#W6sZmlsZQ%3D%3D?line=37'>38</a>\u001b[0m batch_y \u001b[39m=\u001b[39m tf\u001b[39m.\u001b[39mmultiply(batch_y1, ratios) \u001b[39m+\u001b[39m tf\u001b[39m.\u001b[39mmultiply(batch_y2, (\u001b[39m1\u001b[39m \u001b[39m-\u001b[39m ratios))\n\u001b[1;32m     <a href='vscode-notebook-cell:/home/aman/pythonprojects/ephemerae/niam_dense.ipynb#W6sZmlsZQ%3D%3D?line=39'>40</a>\u001b[0m \u001b[39mwith\u001b[39;00m tf\u001b[39m.\u001b[39mGradientTape() \u001b[39mas\u001b[39;00m tape:\n",
      "File \u001b[0;32m~/miniconda3/envs/ephemerai/lib/python3.9/site-packages/tensorflow/python/util/traceback_utils.py:153\u001b[0m, in \u001b[0;36mfilter_traceback.<locals>.error_handler\u001b[0;34m(*args, **kwargs)\u001b[0m\n\u001b[1;32m    151\u001b[0m \u001b[39mexcept\u001b[39;00m \u001b[39mException\u001b[39;00m \u001b[39mas\u001b[39;00m e:\n\u001b[1;32m    152\u001b[0m   filtered_tb \u001b[39m=\u001b[39m _process_traceback_frames(e\u001b[39m.\u001b[39m__traceback__)\n\u001b[0;32m--> 153\u001b[0m   \u001b[39mraise\u001b[39;00m e\u001b[39m.\u001b[39mwith_traceback(filtered_tb) \u001b[39mfrom\u001b[39;00m \u001b[39mNone\u001b[39;00m\n\u001b[1;32m    154\u001b[0m \u001b[39mfinally\u001b[39;00m:\n\u001b[1;32m    155\u001b[0m   \u001b[39mdel\u001b[39;00m filtered_tb\n",
      "File \u001b[0;32m~/miniconda3/envs/ephemerai/lib/python3.9/site-packages/tensorflow/python/framework/ops.py:5888\u001b[0m, in \u001b[0;36mraise_from_not_ok_status\u001b[0;34m(e, name)\u001b[0m\n\u001b[1;32m   5886\u001b[0m \u001b[39mdef\u001b[39;00m \u001b[39mraise_from_not_ok_status\u001b[39m(e, name) \u001b[39m-\u001b[39m\u001b[39m>\u001b[39m NoReturn:\n\u001b[1;32m   5887\u001b[0m   e\u001b[39m.\u001b[39mmessage \u001b[39m+\u001b[39m\u001b[39m=\u001b[39m (\u001b[39m\"\u001b[39m\u001b[39m name: \u001b[39m\u001b[39m\"\u001b[39m \u001b[39m+\u001b[39m \u001b[39mstr\u001b[39m(name \u001b[39mif\u001b[39;00m name \u001b[39mis\u001b[39;00m \u001b[39mnot\u001b[39;00m \u001b[39mNone\u001b[39;00m \u001b[39melse\u001b[39;00m \u001b[39m\"\u001b[39m\u001b[39m\"\u001b[39m))\n\u001b[0;32m-> 5888\u001b[0m   \u001b[39mraise\u001b[39;00m core\u001b[39m.\u001b[39m_status_to_exception(e) \u001b[39mfrom\u001b[39;00m \u001b[39mNone\u001b[39;00m\n",
      "\u001b[0;31mInvalidArgumentError\u001b[0m: {{function_node __wrapped__Mul_device_/job:localhost/replica:0/task:0/device:GPU:0}} required broadcastable shapes [Op:Mul] name: "
     ]
    }
   ],
   "source": [
    "total = 500\n",
    "pbar = tqdm(range(total))\n",
    "correct_count = 0\n",
    "\n",
    "for i in pbar:\n",
    "    model = BasisSum()\n",
    "\n",
    "    loss = losses.MeanSquaredError()\n",
    "    opt = optimizers.Adam(0.001)\n",
    "    \n",
    "    random.shuffle(pickles)\n",
    "\n",
    "    x = np.array([feature_vectors[item[1]] for item in pickles])\n",
    "    x = np.array([item / np.linalg.norm(item) for item in x])\n",
    "    \n",
    "    y = np.array([item[0] for item in pickles])\n",
    "    y -= np.add.reduce(y) / len(y)\n",
    "\n",
    "    x, y = tf.cast(x, tf.dtypes.float32), tf.cast(y, tf.dtypes.float32)\n",
    "    x, y = tf.expand_dims(x, -1), tf.expand_dims(y, -1)\n",
    "    \n",
    "    train_x, test_x = x[:-2], x[-2:]\n",
    "    train_y, test_y = y[:-2], y[-2:]\n",
    "\n",
    "    idx1 = tf.range(0, 58, 1, dtype=tf.dtypes.int32)\n",
    "    idx2 = tf.range(0, 58, 1, dtype=tf.dtypes.int32)\n",
    "    \n",
    "    for j in range(1000):\n",
    "        idx1 = tf.random.shuffle(idx1)\n",
    "        idx2 = tf.random.shuffle(idx2)\n",
    "\n",
    "        batch_x1, batch_x2 = tf.gather(train_x, idx1), tf.gather(train_x, idx2)\n",
    "        batch_y1, batch_y2 = tf.gather(train_y, idx1), tf.gather(train_y, idx2)\n",
    "\n",
    "        ratios = tf.random.uniform((len(batch_x1), 1), 0, 1)\n",
    "\n",
    "        batch_x = tf.multiply(batch_x1, ratios) + tf.multiply(batch_x2, (1 - ratios))\n",
    "        batch_y = tf.multiply(batch_y1, ratios) + tf.multiply(batch_y2, (1 - ratios))\n",
    "\n",
    "        with tf.GradientTape() as tape:\n",
    "            pred_y = model(batch_x)\n",
    "            batchloss = loss(batch_y, pred_y)\n",
    "\n",
    "            grad = tape.gradient(batchloss, model.trainable_variables)\n",
    "            opt.apply_gradients(zip(grad, model.trainable_variables))\n",
    "\n",
    "\n",
    "    pred = model(test_x)\n",
    "    t1, t2 = test_y.numpy()\n",
    "    t1, t2 = t1.flat, t2.flat\n",
    "    p1, p2 = pred.numpy()\n",
    "    p1, p2 = p1.flat, p2.flat\n",
    "    \n",
    "    correct = cos_sim(t1, p1) + cos_sim(t2, p2) > cos_sim(t1, p2) + cos_sim(t2, p1)\n",
    "    correct_count += int(correct)\n",
    "\n",
    "    pbar.set_description(f\"accuracy: {correct_count / (i + 1):.3f}\")"
   ]
  }
 ],
 "metadata": {
  "kernelspec": {
   "display_name": "ephemerai",
   "language": "python",
   "name": "python3"
  },
  "language_info": {
   "codemirror_mode": {
    "name": "ipython",
    "version": 3
   },
   "file_extension": ".py",
   "mimetype": "text/x-python",
   "name": "python",
   "nbconvert_exporter": "python",
   "pygments_lexer": "ipython3",
   "version": "3.9.18"
  }
 },
 "nbformat": 4,
 "nbformat_minor": 2
}
