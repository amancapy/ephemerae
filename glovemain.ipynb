{
 "cells": [
  {
   "cell_type": "code",
   "execution_count": null,
   "metadata": {},
   "outputs": [],
   "source": [
    "import numpy as np\n",
    "from numpy import dot\n",
    "from numpy.linalg import norm\n",
    "import random\n",
    "import pickle\n",
    "from tqdm import tqdm\n",
    "import gc\n",
    "\n",
    "import os\n",
    "os.environ[\"TF_CPP_MIN_LOG_LEVEL\"] = \"2\"\n",
    "import tensorflow as tf\n",
    "from keras import models, layers, losses, optimizers, regularizers, Model"
   ]
  },
  {
   "cell_type": "code",
   "execution_count": null,
   "metadata": {},
   "outputs": [],
   "source": [
    "gc.collect()"
   ]
  },
  {
   "cell_type": "code",
   "execution_count": null,
   "metadata": {},
   "outputs": [],
   "source": [
    "brain_index = pickle.load(open(\"support.pkl\", \"rb\"))\n",
    "nouns, verbs = pickle.load(open(\"vecs.pkl\", \"rb\"))\n",
    "\n",
    "pickles = [pickle.load(open(f\"pickles/{i}.pkl\", \"rb\")) for i in range(1)]\n",
    "pickles = [item for sublist in pickles for item in sublist]\n",
    "pickles = sorted(pickles, key=lambda x: x[1])\n",
    "pickles = [[item for item in pickles if item[1] == noun] for noun in nouns]\n",
    "pickles = [(np.add.reduce([item[0] for item in sublist]) / len(sublist), sublist[0][1]) for sublist in pickles]\n",
    "pickles = [(item[0][brain_index], item[1]) for item in pickles]\n",
    "\n",
    "len(nouns), len(verbs)"
   ]
  },
  {
   "cell_type": "code",
   "execution_count": null,
   "metadata": {},
   "outputs": [],
   "source": [
    "class BasisSum(Model):\n",
    "    def __init__(self):\n",
    "        super().__init__()\n",
    "        self.basis = tf.Variable(tf.convert_to_tensor([verbs[verb] for verb in verbs]), trainable=True, name=\"verb_basis\")\n",
    "         \n",
    "        self.dense = layers.Dense(self.basis.shape[0], kernel_regularizer=regularizers.L2(0.03), use_bias=False)\n",
    "\n",
    "    @tf.function(reduce_retracing=True)\n",
    "    def call(self, x):\n",
    "        x = self.dense(x)\n",
    "        x = tf.einsum(\"bi, ij -> bj\", x, self.basis)\n",
    "        \n",
    "        return x"
   ]
  },
  {
   "cell_type": "code",
   "execution_count": null,
   "metadata": {},
   "outputs": [],
   "source": [
    "def l2(a, b):\n",
    "    return norm(np.subtract(a, b))"
   ]
  },
  {
   "cell_type": "code",
   "execution_count": null,
   "metadata": {},
   "outputs": [],
   "source": [
    "total = 500\n",
    "pbar = tqdm(range(total))\n",
    "correct_count = 0\n",
    "\n",
    "for i in pbar:\n",
    "    model = BasisSum()\n",
    "    loss = losses.MeanSquaredError()\n",
    "    opt = optimizers.Adam(0.01)\n",
    "\n",
    "    random.shuffle(pickles)\n",
    "\n",
    "    x = np.array([item[0] for item in pickles])\n",
    "    y = [item[1] for item in pickles]\n",
    "    y = np.array([nouns[item] for item in y])\n",
    "\n",
    "    x, y = tf.cast(x, tf.dtypes.float32), tf.cast(y, tf.dtypes.float32)\n",
    "    \n",
    "    train_x, test_x = x[:-2], x[-2:]\n",
    "    train_y, test_y = y[:-2], y[-2:]\n",
    "\n",
    "    for j in range(200):\n",
    "        with tf.GradientTape() as tape:\n",
    "            pred_y = model(train_x)\n",
    "            batchloss = loss(train_y, pred_y)\n",
    "            grads = tape.gradient(batchloss, model.trainable_variables)\n",
    "            opt.apply_gradients(zip(grads, model.trainable_variables))\n",
    "\n",
    "    pred = model(test_x)\n",
    "    t1, t2 = test_y.numpy()\n",
    "    t1, t2 = t1.flat, t2.flat\n",
    "    p1, p2 = pred.numpy()\n",
    "    p1, p2 = p1.flat, p2.flat\n",
    "    \n",
    "    correct = l2(t1, p1) + l2(t2, p2)\n",
    "    incorrect = l2(t1, p2) + l2(t2, p1)\n",
    "\n",
    "    correct_count += int(correct < incorrect)\n",
    "\n",
    "    pbar.set_description(f\"accuracy: {correct_count / (i + 1):.3f}\")"
   ]
  }
 ],
 "metadata": {
  "kernelspec": {
   "display_name": "ephemerai",
   "language": "python",
   "name": "python3"
  },
  "language_info": {
   "codemirror_mode": {
    "name": "ipython",
    "version": 3
   },
   "file_extension": ".py",
   "mimetype": "text/x-python",
   "name": "python",
   "nbconvert_exporter": "python",
   "pygments_lexer": "ipython3",
   "version": "3.9.18"
  }
 },
 "nbformat": 4,
 "nbformat_minor": 2
}
