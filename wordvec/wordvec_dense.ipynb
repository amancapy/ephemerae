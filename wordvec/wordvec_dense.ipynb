{
 "cells": [
  {
   "cell_type": "code",
   "execution_count": 1,
   "metadata": {},
   "outputs": [],
   "source": [
    "import numpy as np\n",
    "from numpy import dot\n",
    "from numpy.linalg import norm\n",
    "import random\n",
    "import pickle\n",
    "from tqdm import tqdm\n",
    "import gc\n",
    "from itertools import combinations\n",
    "\n",
    "import os\n",
    "os.environ[\"TF_CPP_MIN_LOG_LEVEL\"] = \"3\"\n",
    "import tensorflow as tf\n",
    "from keras import models, layers, losses, optimizers, regularizers, Model"
   ]
  },
  {
   "cell_type": "code",
   "execution_count": 2,
   "metadata": {},
   "outputs": [
    {
     "data": {
      "text/plain": [
       "0"
      ]
     },
     "execution_count": 2,
     "metadata": {},
     "output_type": "execute_result"
    }
   ],
   "source": [
    "gc.collect()"
   ]
  },
  {
   "cell_type": "code",
   "execution_count": 3,
   "metadata": {},
   "outputs": [
    {
     "data": {
      "text/plain": [
       "(60, 25)"
      ]
     },
     "execution_count": 3,
     "metadata": {},
     "output_type": "execute_result"
    }
   ],
   "source": [
    "brain_index = pickle.load(open(\"../data/support.pkl\", \"rb\"))\n",
    "noun_vecs, verb_vecs = pickle.load(open(\"../data/vecs.pkl\", \"rb\"))\n",
    "\n",
    "pickles = [pickle.load(open(f\"../data/pickles/{i}.pkl\", \"rb\")) for i in range(1)]\n",
    "pickles = [item for sublist in pickles for item in sublist]\n",
    "pickles = sorted(pickles, key=lambda x: x[1])\n",
    "pickles = [[item for item in pickles if item[1] == noun] for noun in noun_vecs]\n",
    "pickles = [(np.add.reduce([item[0] for item in sublist]) / len(sublist), sublist[0][1]) for sublist in pickles]\n",
    "pickles = [(item[0][brain_index], item[1]) for item in pickles]\n",
    "\n",
    "len(noun_vecs), len(verb_vecs)"
   ]
  },
  {
   "cell_type": "code",
   "execution_count": 4,
   "metadata": {},
   "outputs": [],
   "source": [
    "def l2(a, b):\n",
    "    return norm(np.subtract(a, b))"
   ]
  },
  {
   "cell_type": "code",
   "execution_count": 5,
   "metadata": {},
   "outputs": [],
   "source": [
    "class BasisSum(Model):\n",
    "    def __init__(self):\n",
    "        super().__init__()\n",
    "        self.basis = tf.Variable(tf.convert_to_tensor([verb_vecs[verb] for verb in verb_vecs]), trainable=False, name=\"verb_basis\")\n",
    "        self.d1 = layers.Dense(64, activation=\"relu\")\n",
    "        self.d2 = layers.Dense(32, activation=\"relu\")\n",
    "        self.dn = layers.Dense(self.basis.shape[0], activation=\"sigmoid\")\n",
    "        \n",
    "    @tf.function(reduce_retracing=True)\n",
    "    def call(self, x):\n",
    "        x = self.d1(x)\n",
    "        x = self.d2(x)\n",
    "        x = self.dn(x)\n",
    "        x = x / tf.norm(x, axis=0, keepdims=True)\n",
    "        \n",
    "        x = tf.einsum(\"bi,ij->bj\", x, self.basis)\n",
    "        \n",
    "        return x"
   ]
  },
  {
   "cell_type": "code",
   "execution_count": 6,
   "metadata": {},
   "outputs": [
    {
     "name": "stderr",
     "output_type": "stream",
     "text": [
      "  0%|          | 0/1770 [00:00<?, ?it/s]"
     ]
    },
    {
     "name": "stdout",
     "output_type": "stream",
     "text": [
      "WARNING:tensorflow:5 out of the last 5 calls to <function _BaseOptimizer._update_step_xla at 0x7fc6a85b35e0> triggered tf.function retracing. Tracing is expensive and the excessive number of tracings could be due to (1) creating @tf.function repeatedly in a loop, (2) passing tensors with different shapes, (3) passing Python objects instead of tensors. For (1), please define your @tf.function outside of the loop. For (2), @tf.function has reduce_retracing=True option that can avoid unnecessary retracing. For (3), please refer to https://www.tensorflow.org/guide/function#controlling_retracing and https://www.tensorflow.org/api_docs/python/tf/function for  more details.\n",
      "WARNING:tensorflow:6 out of the last 6 calls to <function _BaseOptimizer._update_step_xla at 0x7fc6a85b35e0> triggered tf.function retracing. Tracing is expensive and the excessive number of tracings could be due to (1) creating @tf.function repeatedly in a loop, (2) passing tensors with different shapes, (3) passing Python objects instead of tensors. For (1), please define your @tf.function outside of the loop. For (2), @tf.function has reduce_retracing=True option that can avoid unnecessary retracing. For (3), please refer to https://www.tensorflow.org/guide/function#controlling_retracing and https://www.tensorflow.org/api_docs/python/tf/function for  more details.\n",
      "0 0.015968070030212403\n",
      "100 0.5107827630639076\n",
      "200 0.3682992488145828\n",
      "300 0.3430792862176895\n",
      "400 0.3250245329737663\n",
      "500 0.312782416343689\n",
      "600 0.3031373795866966\n",
      "700 0.2997839185595512\n",
      "800 0.2979336825013161\n",
      "900 0.29517841786146165\n",
      "1000 0.295569629073143\n",
      "1100 0.2939473551511764\n",
      "1200 0.28912455439567564\n",
      "1300 0.28242976173758505\n",
      "1400 0.28389204263687134\n",
      "1500 0.2835342675447464\n",
      "1600 0.27935258686542513\n",
      "1700 0.27561098396778105\n",
      "1800 0.27259741082787514\n",
      "1900 0.2752645722031593\n"
     ]
    },
    {
     "name": "stderr",
     "output_type": "stream",
     "text": [
      "accuracy: 1.000:   0%|          | 1/1770 [00:29<14:30:27, 29.52s/it]"
     ]
    },
    {
     "name": "stdout",
     "output_type": "stream",
     "text": [
      "0 0.016252039670944213\n",
      "100 0.6302044874429703\n",
      "200 0.4730979114770889\n",
      "300 0.4444975742697716\n",
      "400 0.42260519474744795\n",
      "500 0.41276758641004563\n",
      "600 0.41325831949710845\n",
      "700 0.40757968455553056\n",
      "800 0.39038507640361786\n",
      "900 0.3867751607298851\n",
      "1000 0.3829701918363571\n",
      "1100 0.3785504272580147\n",
      "1200 0.3780233883857727\n",
      "1300 0.37693129777908324\n",
      "1400 0.36992094814777376\n",
      "1500 0.3720728123188019\n",
      "1600 0.370182129740715\n",
      "1700 0.3683420717716217\n",
      "1800 0.3586224690079689\n",
      "1900 0.3503899320960045\n"
     ]
    },
    {
     "name": "stderr",
     "output_type": "stream",
     "text": [
      "accuracy: 1.000:   0%|          | 2/1770 [00:58<14:28:15, 29.47s/it]"
     ]
    },
    {
     "name": "stdout",
     "output_type": "stream",
     "text": [
      "0 0.0170040225982666\n",
      "100 0.4939456009864807\n",
      "200 0.3584054005146027\n",
      "300 0.33097593367099765\n",
      "400 0.3171682533621788\n",
      "500 0.3114148885011673\n",
      "600 0.3048152217268944\n",
      "700 0.2963544264435768\n",
      "800 0.2810323646664619\n",
      "900 0.2759032914042473\n",
      "1000 0.27315658003091814\n",
      "1100 0.2721414378285408\n",
      "1200 0.2704558126628399\n",
      "1300 0.2685805158317089\n",
      "1400 0.26818350672721863\n",
      "1500 0.2663959664106369\n",
      "1600 0.26357258498668673\n",
      "1700 0.2631925208866596\n",
      "1800 0.26288542136549947\n",
      "1900 0.2654390811920166\n"
     ]
    },
    {
     "name": "stderr",
     "output_type": "stream",
     "text": [
      "accuracy: 0.667:   0%|          | 3/1770 [01:27<14:19:30, 29.19s/it]"
     ]
    },
    {
     "name": "stdout",
     "output_type": "stream",
     "text": [
      "0 0.016038106679916384\n",
      "100 0.544783550798893\n",
      "200 0.39629640072584155\n",
      "300 0.3592594540119171\n",
      "400 0.3345611456036568\n",
      "500 0.3263668105006218\n",
      "600 0.31285223841667176\n",
      "700 0.30673236548900606\n",
      "800 0.3033199501037598\n",
      "900 0.2993731987476349\n",
      "1000 0.2971143555641174\n",
      "1100 0.2967127767205238\n",
      "1200 0.2961179393529892\n",
      "1300 0.29254108160734177\n",
      "1400 0.29308164477348325\n",
      "1500 0.29233505636453627\n",
      "1600 0.28440673112869264\n",
      "1700 0.2878247222304344\n",
      "1800 0.28704928964376447\n",
      "1900 0.2826374337077141\n"
     ]
    },
    {
     "name": "stderr",
     "output_type": "stream",
     "text": [
      "accuracy: 0.750:   0%|          | 4/1770 [01:56<14:10:47, 28.91s/it]"
     ]
    },
    {
     "name": "stdout",
     "output_type": "stream",
     "text": [
      "0 0.016937599182128907\n",
      "100 0.5178254932165146\n",
      "200 0.3770367643237114\n",
      "300 0.3242714136838913\n",
      "400 0.3057513228058815\n",
      "500 0.2988075363636017\n",
      "600 0.29318019449710847\n",
      "700 0.2875901508331299\n",
      "800 0.2836294573545456\n",
      "900 0.2798945665359497\n"
     ]
    }
   ],
   "source": [
    "total = 500\n",
    "batch_size = 64\n",
    "pbar = tqdm(combinations(range(60), 58), total=1770)\n",
    "\n",
    "x = np.array([item[0] for item in pickles])\n",
    "y = [item[1] for item in pickles]\n",
    "y = np.array([noun_vecs[item] for item in y])\n",
    "\n",
    "x, y = tf.cast(x, tf.dtypes.float32), tf.cast(y, tf.dtypes.float32)\n",
    "\n",
    "correct_count = 0\n",
    "\n",
    "for i, comb in enumerate(pbar):\n",
    "    comp = list(set.difference(set(range(60)), set(comb)))\n",
    "\n",
    "    model = BasisSum()\n",
    "    loss = losses.MeanSquaredError()\n",
    "    opt = optimizers.Adam(0.001)\n",
    "\n",
    "    train_x, test_x = tf.gather(x, comb), tf.gather(x, comp)\n",
    "    train_y, test_y = tf.gather(y, comb), tf.gather(y, comp)\n",
    "\n",
    "    batchlosses = []\n",
    "    for j in range(2000):\n",
    "        idx1 = tf.random.uniform(shape=[batch_size], minval=0, maxval=tf.shape(train_x)[0], dtype=tf.int32)\n",
    "        idx2 = tf.random.uniform(shape=[batch_size], minval=0, maxval=tf.shape(train_x)[0], dtype=tf.int32)\n",
    "\n",
    "        batch_x1, batch_y1 = tf.gather(train_x, idx1), tf.gather(train_y, idx1)\n",
    "        batch_x2, batch_y2 = tf.gather(train_x, idx2), tf.gather(train_y, idx2)\n",
    "\n",
    "        ratios = tf.random.uniform((len(batch_x1), 1), 0, 1)\n",
    "        batch_x = batch_x1 * ratios + batch_x2 * (1 - ratios)\n",
    "        batch_y = batch_y1 * ratios + batch_y2 * (1 - ratios)\n",
    "\n",
    "        with tf.GradientTape() as tape:\n",
    "            pred_y = model(batch_x)\n",
    "            batchloss = loss(batch_y, pred_y)\n",
    "            grads = tape.gradient(batchloss, model.trainable_variables)\n",
    "            opt.apply_gradients(zip(grads, model.trainable_variables))\n",
    "\n",
    "            batchlosses.append(float(batchloss))\n",
    "\n",
    "        if j % 100 == 0:\n",
    "            ...\n",
    "            print(j, sum(batchlosses[-100:]) / 100)\n",
    "\n",
    "\n",
    "    pred = model(test_x)\n",
    "    t1, t2 = test_y.numpy()\n",
    "    t1, t2 = t1.flat, t2.flat\n",
    "    p1, p2 = pred.numpy()\n",
    "    p1, p2 = p1.flat, p2.flat\n",
    "    \n",
    "    correct = l2(t1, p1) + l2(t2, p2)\n",
    "    incorrect = l2(t1, p2) + l2(t2, p1)\n",
    "\n",
    "    correct_count += int(correct < incorrect)\n",
    "\n",
    "    pbar.set_description(f\"accuracy: {correct_count / (i + 1):.3f}\")"
   ]
  }
 ],
 "metadata": {
  "kernelspec": {
   "display_name": "ephemerai",
   "language": "python",
   "name": "python3"
  },
  "language_info": {
   "codemirror_mode": {
    "name": "ipython",
    "version": 3
   },
   "file_extension": ".py",
   "mimetype": "text/x-python",
   "name": "python",
   "nbconvert_exporter": "python",
   "pygments_lexer": "ipython3",
   "version": "3.9.18"
  }
 },
 "nbformat": 4,
 "nbformat_minor": 2
}
